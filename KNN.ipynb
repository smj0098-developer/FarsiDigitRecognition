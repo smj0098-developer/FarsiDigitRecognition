{
 "cells": [
  {
   "cell_type": "code",
   "execution_count": 10,
   "id": "15d24b46",
   "metadata": {},
   "outputs": [],
   "source": [
    "from matplotlib import pyplot as plt\n",
    "import numpy as np\n",
    "from HodaDatasetReader import read_hoda_cdb, read_hoda_dataset\n",
    "from sklearn.neighbors import KNeighborsClassifier\n",
    "from sklearn.metrics import confusion_matrix\n",
    "from sklearn.metrics import accuracy_score\n",
    "import cv2 as cv"
   ]
  },
  {
   "cell_type": "code",
   "execution_count": 11,
   "id": "dda72bf6",
   "metadata": {
    "lines_to_next_cell": 2
   },
   "outputs": [
    {
     "name": "stdout",
     "output_type": "stream",
     "text": [
      "Reading train dataset (Train 60000.cdb)...\n"
     ]
    }
   ],
   "source": [
    "print('Reading train dataset (Train 60000.cdb)...')\n",
    "X_train, Y_train = read_hoda_dataset(dataset_path='./DigitDB/Train 60000.cdb',\n",
    "                                images_height=32,\n",
    "                                images_width=32,\n",
    "                                one_hot=False,\n",
    "                                reshape=True)\n",
    "# np.random.seed(12)\n",
    "randomTrainingPermutationArray = np.random.permutation(len(X_train))\n",
    "X_train = X_train[randomTrainingPermutationArray]\n",
    "Y_train = Y_train[randomTrainingPermutationArray]\n",
    "X_CV = X_train[5000:10000]\n",
    "Y_CV = Y_train[5000:10000]\n",
    "X_train = X_train[:5000]\n",
    "Y_train = Y_train[:5000]"
   ]
  },
  {
   "cell_type": "code",
   "execution_count": 12,
   "id": "bb687c8a",
   "metadata": {},
   "outputs": [
    {
     "name": "stdout",
     "output_type": "stream",
     "text": [
      "Reading test dataset (Test 20000.cdb)...\n"
     ]
    }
   ],
   "source": [
    "print('Reading test dataset (Test 20000.cdb)...')\n",
    "X_test, Y_test = read_hoda_dataset(dataset_path='./DigitDB/Test 20000.cdb',\n",
    "                              images_height=32,\n",
    "                              images_width=32,\n",
    "                              one_hot=False,\n",
    "                              reshape=True)"
   ]
  },
  {
   "cell_type": "code",
   "execution_count": 13,
   "id": "60d2a906",
   "metadata": {
    "lines_to_next_cell": 2
   },
   "outputs": [],
   "source": [
    "randomTestingPermutationArray = np.random.permutation(len(X_test))\n",
    "X_test = X_test[randomTestingPermutationArray]\n",
    "Y_test = Y_test[randomTestingPermutationArray]\n",
    "X_test = X_test[:5000]\n",
    "Y_test = Y_test[:5000]\n",
    "##############################################################################################3"
   ]
  },
  {
   "cell_type": "code",
   "execution_count": 14,
   "id": "b4a73885",
   "metadata": {},
   "outputs": [
    {
     "name": "stdout",
     "output_type": "stream",
     "text": [
      "hyperparameter tuning checking k from 1 to 20 ...\n"
     ]
    }
   ],
   "source": [
    "### hyperparameter tuning checking k from 1 to 20\n",
    "print(\"hyperparameter tuning checking k from 1 to 20 ...\")"
   ]
  },
  {
   "cell_type": "code",
   "execution_count": 15,
   "id": "1ef691df",
   "metadata": {},
   "outputs": [
    {
     "name": "stdout",
     "output_type": "stream",
     "text": [
      "[(1, 0.9572), (2, 0.9426), (3, 0.9538), (4, 0.951), (5, 0.9532), (6, 0.9502), (7, 0.9494), (8, 0.947), (9, 0.9444), (10, 0.944), (11, 0.9434), (12, 0.942), (13, 0.9422), (14, 0.9406), (15, 0.939), (16, 0.939), (17, 0.939), (18, 0.9382), (19, 0.9366)]\n",
      "the best K is 1\n"
     ]
    }
   ],
   "source": [
    "KAccuracyPairsList = []\n",
    "for k in range(1,20):\n",
    "    classifier = KNeighborsClassifier(n_neighbors=k, metric='euclidean')\n",
    "    classifier.fit(X_train, Y_train)\n",
    "    Y_predict = classifier.predict(X_CV)\n",
    "    acc = accuracy_score(Y_CV, Y_predict)\n",
    "    KAccuracyPairsList.append((k,acc))\n",
    "print(KAccuracyPairsList)\n",
    "maxPair = max(KAccuracyPairsList,key=lambda item:item[1])\n",
    "bestK = maxPair[0]\n",
    "print(\"the best K is\", bestK)"
   ]
  },
  {
   "cell_type": "code",
   "execution_count": 16,
   "id": "9b3c1068",
   "metadata": {
    "lines_to_next_cell": 2
   },
   "outputs": [
    {
     "name": "stdout",
     "output_type": "stream",
     "text": [
      "Model Training started ...\n"
     ]
    }
   ],
   "source": [
    "print(\"Model Training started ...\")\n",
    "classifier= KNeighborsClassifier(n_neighbors=bestK, metric='euclidean')\n",
    "classifier.fit(X_train, Y_train)\n",
    "Y_predict = classifier.predict(X_test)"
   ]
  },
  {
   "cell_type": "code",
   "execution_count": 17,
   "id": "2e8ea34c",
   "metadata": {},
   "outputs": [
    {
     "name": "stdout",
     "output_type": "stream",
     "text": [
      "confusion matrix : \n",
      "[[504   0   0   0   0   2   0   0   0   0]\n",
      " [  1 529   0   0   0   0   0   1   0   0]\n",
      " [  2  40 447  16   3   0   1   0   0   1]\n",
      " [  2   1  72 370  18   0   1   5   4   0]\n",
      " [  8   9  25  25 409   1   7   0   0   0]\n",
      " [  7  10   1   0   1 446   1   0  38   1]\n",
      " [  4   3   4   0   0   2 492   3   1  20]\n",
      " [  5   7   5   2   1   0   5 474   0   0]\n",
      " [  3   7   0   0   0   1   0   0 491   4]\n",
      " [  0  27   2   0   0   1  10   0   2 415]]\n",
      "accuracy :  0.9154\n"
     ]
    },
    {
     "data": {
      "image/png": "[encoded data removed]",
      "text/plain": [
       "<Figure size 640x480 with 1 Axes>"
      ]
     },
     "metadata": {},
     "output_type": "display_data"
    }
   ],
   "source": [
    "# Creating the Confusion matrix\n",
    "cm = confusion_matrix(Y_test, Y_predict)\n",
    "print(\"confusion matrix : \")\n",
    "print(cm)\n",
    "acc = accuracy_score(Y_test, Y_predict)\n",
    "print(\"accuracy : \",acc)\n",
    "#\n",
    "#\n",
    "# importing, resizing and masking image\n",
    "image = cv.imread(\"./4.3.png\",cv.IMREAD_GRAYSCALE)\n",
    "resizedImage = cv.resize(image, dsize=(32, 32), interpolation=cv.INTER_CUBIC)\n",
    "# making those pixels that are bigger than 0 equal to 1 so that the image is sharper\n",
    "resizedImage[resizedImage>0]= 1\n",
    "# showing the image\n",
    "plt.imshow(resizedImage, cmap='gray')\n",
    "plt.show()"
   ]
  },
  {
   "cell_type": "code",
   "execution_count": 18,
   "id": "ec2e1f4f",
   "metadata": {},
   "outputs": [
    {
     "name": "stdout",
     "output_type": "stream",
     "text": [
      "predicted result :  4.0\n"
     ]
    }
   ],
   "source": [
    "# predicting the label for our image\n",
    "Y_predict = classifier.predict([resizedImage.ravel()])[0]\n",
    "print(\"predicted result : \", Y_predict)"
   ]
  },
  {
   "cell_type": "code",
   "execution_count": null,
   "id": "86e9edb1",
   "metadata": {},
   "outputs": [],
   "source": []
  }
 ],
 "metadata": {
  "jupytext": {
   "cell_metadata_filter": "-all",
   "notebook_metadata_filter": "-all"
  },
  "kernelspec": {
   "display_name": "Python 3 (ipykernel)",
   "language": "python",
   "name": "python3"
  },
  "language_info": {
   "codemirror_mode": {
    "name": "ipython",
    "version": 3
   },
   "file_extension": ".py",
   "mimetype": "text/x-python",
   "name": "python",
   "nbconvert_exporter": "python",
   "pygments_lexer": "ipython3",
   "version": "3.9.13"
  }
 },
 "nbformat": 4,
 "nbformat_minor": 5
}
